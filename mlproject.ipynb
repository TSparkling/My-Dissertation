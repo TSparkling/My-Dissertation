{
 "cells": [
  {
   "cell_type": "code",
   "execution_count": 1,
   "id": "74645379-8a66-486f-a180-9500d243ff65",
   "metadata": {},
   "outputs": [],
   "source": [
    "import pandas as pd\n",
    "from sklearn.model_selection import train_test_split\n",
    "from sklearn.preprocessing import StandardScaler, OneHotEncoder\n",
    "from sklearn.compose import ColumnTransformer\n",
    "from sklearn.pipeline import Pipeline\n",
    "from sklearn.ensemble import RandomForestClassifier\n",
    "from sklearn.tree import DecisionTreeClassifier\n",
    "from sklearn.svm import SVC\n",
    "from sklearn.neural_network import MLPClassifier\n",
    "from sklearn.linear_model import LogisticRegression\n",
    "from sklearn.metrics import accuracy_score, recall_score, precision_score, f1_score, classification_report\n",
    "from sklearn.feature_selection import SelectKBest\n",
    "from sklearn.feature_selection import mutual_info_classif\n",
    "\n",
    "# Load the dataset\n",
    "bc_prep = pd.read_csv('bc_prep.csv')\n",
    "\n"
   ]
  },
  {
   "cell_type": "code",
   "execution_count": 3,
   "id": "c00978c1-29e7-497c-bcbf-83c16772bb11",
   "metadata": {},
   "outputs": [
    {
     "name": "stdout",
     "output_type": "stream",
     "text": [
      "  Patient.ID  Age.at.Diagnosis  Type.of.Breast.Surgery  Cellularity  \\\n",
      "0    MB-0002             43.19                       0            0   \n",
      "1    MB-0005             48.87                       1            0   \n",
      "2    MB-0006             47.68                       1            1   \n",
      "3    MB-0008             76.97                       1            0   \n",
      "4    MB-0010             78.77                       1            1   \n",
      "\n",
      "   Chemotherapy  Cohort  ER.Status  Neoplasm.Histologic.Grade  HER2.Status  \\\n",
      "0             0       1          0                          3            0   \n",
      "1             1       1          0                          2            0   \n",
      "2             1       1          0                          2            0   \n",
      "3             1       1          0                          3            0   \n",
      "4             0       1          0                          3            0   \n",
      "\n",
      "   Hormone.Therapy  Inferred.Menopausal.State  Primary.Tumor.Laterality  \\\n",
      "0                0                          0                         0   \n",
      "1                0                          0                         0   \n",
      "2                0                          0                         0   \n",
      "3                0                          1                         0   \n",
      "4                0                          1                         1   \n",
      "\n",
      "   Lymph.nodes.examined.positive Overall.Survival.Status  PR.Status  \\\n",
      "0                              0                  Living          0   \n",
      "1                              1                Deceased          0   \n",
      "2                              3                  Living          0   \n",
      "3                              8                Deceased          0   \n",
      "4                              0                Deceased          0   \n",
      "\n",
      "   Radio.Therapy  Tumor.Size  Tumor.Stage  \n",
      "0              1        10.0            1  \n",
      "1              0        15.0            2  \n",
      "2              1        25.0            2  \n",
      "3              1        40.0            2  \n",
      "4              1        31.0            4  \n"
     ]
    }
   ],
   "source": [
    "import pandas as pd\n",
    "\n",
    "# Load the dataset\n",
    "try:\n",
    "    bc_prep = pd.read_csv('bc_prep.csv')\n",
    "except FileNotFoundError:\n",
    "    print(\"The file 'bc_prep.csv' was not found. Please check the file path and try again.\")\n",
    "\n",
    "# Display the first few rows of the dataset\n",
    "print(bc_prep.head())"
   ]
  },
  {
   "cell_type": "code",
   "execution_count": 3,
   "id": "845d28ef-9e13-42a5-a467-d2d3715a349e",
   "metadata": {},
   "outputs": [
    {
     "name": "stdout",
     "output_type": "stream",
     "text": [
      "   Age.at.Diagnosis  Type.of.Breast.Surgery  Cellularity  Chemotherapy  \\\n",
      "0             43.19                       0            0             0   \n",
      "1             48.87                       1            0             1   \n",
      "2             47.68                       1            1             1   \n",
      "3             76.97                       1            0             1   \n",
      "4             78.77                       1            1             0   \n",
      "\n",
      "   Cohort  ER.Status  Neoplasm.Histologic.Grade  HER2.Status  Hormone.Therapy  \\\n",
      "0       1          0                          3            0                0   \n",
      "1       1          0                          2            0                0   \n",
      "2       1          0                          2            0                0   \n",
      "3       1          0                          3            0                0   \n",
      "4       1          0                          3            0                0   \n",
      "\n",
      "   Inferred.Menopausal.State  Primary.Tumor.Laterality  \\\n",
      "0                          0                         0   \n",
      "1                          0                         0   \n",
      "2                          0                         0   \n",
      "3                          1                         0   \n",
      "4                          1                         1   \n",
      "\n",
      "   Lymph.nodes.examined.positive Overall.Survival.Status  PR.Status  \\\n",
      "0                              0                  Living          0   \n",
      "1                              1                Deceased          0   \n",
      "2                              3                  Living          0   \n",
      "3                              8                Deceased          0   \n",
      "4                              0                Deceased          0   \n",
      "\n",
      "   Radio.Therapy  Tumor.Size  Tumor.Stage  \n",
      "0              1        10.0            1  \n",
      "1              0        15.0            2  \n",
      "2              1        25.0            2  \n",
      "3              1        40.0            2  \n",
      "4              1        31.0            4  \n"
     ]
    }
   ],
   "source": [
    "\n",
    "# Drop the Patient.ID column\n",
    "bc_data = bc_prep.drop(columns=['Patient.ID'])\n",
    "\n",
    "# Display the first few rows of the modified dataset\n",
    "print(bc_data.head())"
   ]
  },
  {
   "cell_type": "code",
   "execution_count": 5,
   "id": "4fdaf699-dc80-47fa-ab01-4bf817ff66c3",
   "metadata": {},
   "outputs": [],
   "source": [
    "# Prepare the data\n",
    "X = bc_data.drop(columns=['Overall.Survival.Status'])\n",
    "y = bc_data['Overall.Survival.Status'].apply(lambda x: 1 if x == 'Deceased' else 0)"
   ]
  },
  {
   "cell_type": "code",
   "execution_count": 7,
   "id": "402e0658-6e95-429a-a6fd-a867b0c99f7a",
   "metadata": {},
   "outputs": [],
   "source": [
    "\n",
    "# Identify categorical and numerical columns\n",
    "categorical_cols = X.select_dtypes(include=['object', 'category']).columns\n",
    "numerical_cols = X.select_dtypes(include=['int64', 'float64']).columns"
   ]
  },
  {
   "cell_type": "code",
   "execution_count": 9,
   "id": "f950a1cd-2554-44aa-b855-cbfbc8b39a56",
   "metadata": {},
   "outputs": [],
   "source": [
    "# Preprocessing pipeline for numerical and categorical data\n",
    "preprocessor = ColumnTransformer(\n",
    "    transformers=[\n",
    "        ('num', StandardScaler(), numerical_cols),\n",
    "        ('cat', OneHotEncoder(), categorical_cols)\n",
    "    ])"
   ]
  },
  {
   "cell_type": "code",
   "execution_count": 11,
   "id": "201e89b4-93cb-498b-a55e-d9175bed0ab8",
   "metadata": {},
   "outputs": [],
   "source": [
    "# Split the data into training and test sets\n",
    "X_train, X_test, y_train, y_test = train_test_split(X, y, test_size=0.3, random_state=42)"
   ]
  },
  {
   "cell_type": "code",
   "execution_count": 13,
   "id": "ee827457-f560-47de-a866-a82404463a8d",
   "metadata": {},
   "outputs": [],
   "source": [
    "# Initialize models\n",
    "models = {\n",
    "    'Random Forest': RandomForestClassifier(random_state=42),\n",
    "    'Decision Tree': DecisionTreeClassifier(random_state=42),\n",
    "    'SVM': SVC(probability=True, random_state=42),\n",
    "    'Logistic Regression': LogisticRegression(random_state=42)\n",
    "}"
   ]
  },
  {
   "cell_type": "code",
   "execution_count": 15,
   "id": "4f958744-b99e-4903-80f6-238020dbbf60",
   "metadata": {},
   "outputs": [
    {
     "data": {
      "text/html": [
       "<style>#sk-container-id-1 {\n",
       "  /* Definition of color scheme common for light and dark mode */\n",
       "  --sklearn-color-text: black;\n",
       "  --sklearn-color-line: gray;\n",
       "  /* Definition of color scheme for unfitted estimators */\n",
       "  --sklearn-color-unfitted-level-0: #fff5e6;\n",
       "  --sklearn-color-unfitted-level-1: #f6e4d2;\n",
       "  --sklearn-color-unfitted-level-2: #ffe0b3;\n",
       "  --sklearn-color-unfitted-level-3: chocolate;\n",
       "  /* Definition of color scheme for fitted estimators */\n",
       "  --sklearn-color-fitted-level-0: #f0f8ff;\n",
       "  --sklearn-color-fitted-level-1: #d4ebff;\n",
       "  --sklearn-color-fitted-level-2: #b3dbfd;\n",
       "  --sklearn-color-fitted-level-3: cornflowerblue;\n",
       "\n",
       "  /* Specific color for light theme */\n",
       "  --sklearn-color-text-on-default-background: var(--sg-text-color, var(--theme-code-foreground, var(--jp-content-font-color1, black)));\n",
       "  --sklearn-color-background: var(--sg-background-color, var(--theme-background, var(--jp-layout-color0, white)));\n",
       "  --sklearn-color-border-box: var(--sg-text-color, var(--theme-code-foreground, var(--jp-content-font-color1, black)));\n",
       "  --sklearn-color-icon: #696969;\n",
       "\n",
       "  @media (prefers-color-scheme: dark) {\n",
       "    /* Redefinition of color scheme for dark theme */\n",
       "    --sklearn-color-text-on-default-background: var(--sg-text-color, var(--theme-code-foreground, var(--jp-content-font-color1, white)));\n",
       "    --sklearn-color-background: var(--sg-background-color, var(--theme-background, var(--jp-layout-color0, #111)));\n",
       "    --sklearn-color-border-box: var(--sg-text-color, var(--theme-code-foreground, var(--jp-content-font-color1, white)));\n",
       "    --sklearn-color-icon: #878787;\n",
       "  }\n",
       "}\n",
       "\n",
       "#sk-container-id-1 {\n",
       "  color: var(--sklearn-color-text);\n",
       "}\n",
       "\n",
       "#sk-container-id-1 pre {\n",
       "  padding: 0;\n",
       "}\n",
       "\n",
       "#sk-container-id-1 input.sk-hidden--visually {\n",
       "  border: 0;\n",
       "  clip: rect(1px 1px 1px 1px);\n",
       "  clip: rect(1px, 1px, 1px, 1px);\n",
       "  height: 1px;\n",
       "  margin: -1px;\n",
       "  overflow: hidden;\n",
       "  padding: 0;\n",
       "  position: absolute;\n",
       "  width: 1px;\n",
       "}\n",
       "\n",
       "#sk-container-id-1 div.sk-dashed-wrapped {\n",
       "  border: 1px dashed var(--sklearn-color-line);\n",
       "  margin: 0 0.4em 0.5em 0.4em;\n",
       "  box-sizing: border-box;\n",
       "  padding-bottom: 0.4em;\n",
       "  background-color: var(--sklearn-color-background);\n",
       "}\n",
       "\n",
       "#sk-container-id-1 div.sk-container {\n",
       "  /* jupyter's `normalize.less` sets `[hidden] { display: none; }`\n",
       "     but bootstrap.min.css set `[hidden] { display: none !important; }`\n",
       "     so we also need the `!important` here to be able to override the\n",
       "     default hidden behavior on the sphinx rendered scikit-learn.org.\n",
       "     See: https://github.com/scikit-learn/scikit-learn/issues/21755 */\n",
       "  display: inline-block !important;\n",
       "  position: relative;\n",
       "}\n",
       "\n",
       "#sk-container-id-1 div.sk-text-repr-fallback {\n",
       "  display: none;\n",
       "}\n",
       "\n",
       "div.sk-parallel-item,\n",
       "div.sk-serial,\n",
       "div.sk-item {\n",
       "  /* draw centered vertical line to link estimators */\n",
       "  background-image: linear-gradient(var(--sklearn-color-text-on-default-background), var(--sklearn-color-text-on-default-background));\n",
       "  background-size: 2px 100%;\n",
       "  background-repeat: no-repeat;\n",
       "  background-position: center center;\n",
       "}\n",
       "\n",
       "/* Parallel-specific style estimator block */\n",
       "\n",
       "#sk-container-id-1 div.sk-parallel-item::after {\n",
       "  content: \"\";\n",
       "  width: 100%;\n",
       "  border-bottom: 2px solid var(--sklearn-color-text-on-default-background);\n",
       "  flex-grow: 1;\n",
       "}\n",
       "\n",
       "#sk-container-id-1 div.sk-parallel {\n",
       "  display: flex;\n",
       "  align-items: stretch;\n",
       "  justify-content: center;\n",
       "  background-color: var(--sklearn-color-background);\n",
       "  position: relative;\n",
       "}\n",
       "\n",
       "#sk-container-id-1 div.sk-parallel-item {\n",
       "  display: flex;\n",
       "  flex-direction: column;\n",
       "}\n",
       "\n",
       "#sk-container-id-1 div.sk-parallel-item:first-child::after {\n",
       "  align-self: flex-end;\n",
       "  width: 50%;\n",
       "}\n",
       "\n",
       "#sk-container-id-1 div.sk-parallel-item:last-child::after {\n",
       "  align-self: flex-start;\n",
       "  width: 50%;\n",
       "}\n",
       "\n",
       "#sk-container-id-1 div.sk-parallel-item:only-child::after {\n",
       "  width: 0;\n",
       "}\n",
       "\n",
       "/* Serial-specific style estimator block */\n",
       "\n",
       "#sk-container-id-1 div.sk-serial {\n",
       "  display: flex;\n",
       "  flex-direction: column;\n",
       "  align-items: center;\n",
       "  background-color: var(--sklearn-color-background);\n",
       "  padding-right: 1em;\n",
       "  padding-left: 1em;\n",
       "}\n",
       "\n",
       "\n",
       "/* Toggleable style: style used for estimator/Pipeline/ColumnTransformer box that is\n",
       "clickable and can be expanded/collapsed.\n",
       "- Pipeline and ColumnTransformer use this feature and define the default style\n",
       "- Estimators will overwrite some part of the style using the `sk-estimator` class\n",
       "*/\n",
       "\n",
       "/* Pipeline and ColumnTransformer style (default) */\n",
       "\n",
       "#sk-container-id-1 div.sk-toggleable {\n",
       "  /* Default theme specific background. It is overwritten whether we have a\n",
       "  specific estimator or a Pipeline/ColumnTransformer */\n",
       "  background-color: var(--sklearn-color-background);\n",
       "}\n",
       "\n",
       "/* Toggleable label */\n",
       "#sk-container-id-1 label.sk-toggleable__label {\n",
       "  cursor: pointer;\n",
       "  display: block;\n",
       "  width: 100%;\n",
       "  margin-bottom: 0;\n",
       "  padding: 0.5em;\n",
       "  box-sizing: border-box;\n",
       "  text-align: center;\n",
       "}\n",
       "\n",
       "#sk-container-id-1 label.sk-toggleable__label-arrow:before {\n",
       "  /* Arrow on the left of the label */\n",
       "  content: \"▸\";\n",
       "  float: left;\n",
       "  margin-right: 0.25em;\n",
       "  color: var(--sklearn-color-icon);\n",
       "}\n",
       "\n",
       "#sk-container-id-1 label.sk-toggleable__label-arrow:hover:before {\n",
       "  color: var(--sklearn-color-text);\n",
       "}\n",
       "\n",
       "/* Toggleable content - dropdown */\n",
       "\n",
       "#sk-container-id-1 div.sk-toggleable__content {\n",
       "  max-height: 0;\n",
       "  max-width: 0;\n",
       "  overflow: hidden;\n",
       "  text-align: left;\n",
       "  /* unfitted */\n",
       "  background-color: var(--sklearn-color-unfitted-level-0);\n",
       "}\n",
       "\n",
       "#sk-container-id-1 div.sk-toggleable__content.fitted {\n",
       "  /* fitted */\n",
       "  background-color: var(--sklearn-color-fitted-level-0);\n",
       "}\n",
       "\n",
       "#sk-container-id-1 div.sk-toggleable__content pre {\n",
       "  margin: 0.2em;\n",
       "  border-radius: 0.25em;\n",
       "  color: var(--sklearn-color-text);\n",
       "  /* unfitted */\n",
       "  background-color: var(--sklearn-color-unfitted-level-0);\n",
       "}\n",
       "\n",
       "#sk-container-id-1 div.sk-toggleable__content.fitted pre {\n",
       "  /* unfitted */\n",
       "  background-color: var(--sklearn-color-fitted-level-0);\n",
       "}\n",
       "\n",
       "#sk-container-id-1 input.sk-toggleable__control:checked~div.sk-toggleable__content {\n",
       "  /* Expand drop-down */\n",
       "  max-height: 200px;\n",
       "  max-width: 100%;\n",
       "  overflow: auto;\n",
       "}\n",
       "\n",
       "#sk-container-id-1 input.sk-toggleable__control:checked~label.sk-toggleable__label-arrow:before {\n",
       "  content: \"▾\";\n",
       "}\n",
       "\n",
       "/* Pipeline/ColumnTransformer-specific style */\n",
       "\n",
       "#sk-container-id-1 div.sk-label input.sk-toggleable__control:checked~label.sk-toggleable__label {\n",
       "  color: var(--sklearn-color-text);\n",
       "  background-color: var(--sklearn-color-unfitted-level-2);\n",
       "}\n",
       "\n",
       "#sk-container-id-1 div.sk-label.fitted input.sk-toggleable__control:checked~label.sk-toggleable__label {\n",
       "  background-color: var(--sklearn-color-fitted-level-2);\n",
       "}\n",
       "\n",
       "/* Estimator-specific style */\n",
       "\n",
       "/* Colorize estimator box */\n",
       "#sk-container-id-1 div.sk-estimator input.sk-toggleable__control:checked~label.sk-toggleable__label {\n",
       "  /* unfitted */\n",
       "  background-color: var(--sklearn-color-unfitted-level-2);\n",
       "}\n",
       "\n",
       "#sk-container-id-1 div.sk-estimator.fitted input.sk-toggleable__control:checked~label.sk-toggleable__label {\n",
       "  /* fitted */\n",
       "  background-color: var(--sklearn-color-fitted-level-2);\n",
       "}\n",
       "\n",
       "#sk-container-id-1 div.sk-label label.sk-toggleable__label,\n",
       "#sk-container-id-1 div.sk-label label {\n",
       "  /* The background is the default theme color */\n",
       "  color: var(--sklearn-color-text-on-default-background);\n",
       "}\n",
       "\n",
       "/* On hover, darken the color of the background */\n",
       "#sk-container-id-1 div.sk-label:hover label.sk-toggleable__label {\n",
       "  color: var(--sklearn-color-text);\n",
       "  background-color: var(--sklearn-color-unfitted-level-2);\n",
       "}\n",
       "\n",
       "/* Label box, darken color on hover, fitted */\n",
       "#sk-container-id-1 div.sk-label.fitted:hover label.sk-toggleable__label.fitted {\n",
       "  color: var(--sklearn-color-text);\n",
       "  background-color: var(--sklearn-color-fitted-level-2);\n",
       "}\n",
       "\n",
       "/* Estimator label */\n",
       "\n",
       "#sk-container-id-1 div.sk-label label {\n",
       "  font-family: monospace;\n",
       "  font-weight: bold;\n",
       "  display: inline-block;\n",
       "  line-height: 1.2em;\n",
       "}\n",
       "\n",
       "#sk-container-id-1 div.sk-label-container {\n",
       "  text-align: center;\n",
       "}\n",
       "\n",
       "/* Estimator-specific */\n",
       "#sk-container-id-1 div.sk-estimator {\n",
       "  font-family: monospace;\n",
       "  border: 1px dotted var(--sklearn-color-border-box);\n",
       "  border-radius: 0.25em;\n",
       "  box-sizing: border-box;\n",
       "  margin-bottom: 0.5em;\n",
       "  /* unfitted */\n",
       "  background-color: var(--sklearn-color-unfitted-level-0);\n",
       "}\n",
       "\n",
       "#sk-container-id-1 div.sk-estimator.fitted {\n",
       "  /* fitted */\n",
       "  background-color: var(--sklearn-color-fitted-level-0);\n",
       "}\n",
       "\n",
       "/* on hover */\n",
       "#sk-container-id-1 div.sk-estimator:hover {\n",
       "  /* unfitted */\n",
       "  background-color: var(--sklearn-color-unfitted-level-2);\n",
       "}\n",
       "\n",
       "#sk-container-id-1 div.sk-estimator.fitted:hover {\n",
       "  /* fitted */\n",
       "  background-color: var(--sklearn-color-fitted-level-2);\n",
       "}\n",
       "\n",
       "/* Specification for estimator info (e.g. \"i\" and \"?\") */\n",
       "\n",
       "/* Common style for \"i\" and \"?\" */\n",
       "\n",
       ".sk-estimator-doc-link,\n",
       "a:link.sk-estimator-doc-link,\n",
       "a:visited.sk-estimator-doc-link {\n",
       "  float: right;\n",
       "  font-size: smaller;\n",
       "  line-height: 1em;\n",
       "  font-family: monospace;\n",
       "  background-color: var(--sklearn-color-background);\n",
       "  border-radius: 1em;\n",
       "  height: 1em;\n",
       "  width: 1em;\n",
       "  text-decoration: none !important;\n",
       "  margin-left: 1ex;\n",
       "  /* unfitted */\n",
       "  border: var(--sklearn-color-unfitted-level-1) 1pt solid;\n",
       "  color: var(--sklearn-color-unfitted-level-1);\n",
       "}\n",
       "\n",
       ".sk-estimator-doc-link.fitted,\n",
       "a:link.sk-estimator-doc-link.fitted,\n",
       "a:visited.sk-estimator-doc-link.fitted {\n",
       "  /* fitted */\n",
       "  border: var(--sklearn-color-fitted-level-1) 1pt solid;\n",
       "  color: var(--sklearn-color-fitted-level-1);\n",
       "}\n",
       "\n",
       "/* On hover */\n",
       "div.sk-estimator:hover .sk-estimator-doc-link:hover,\n",
       ".sk-estimator-doc-link:hover,\n",
       "div.sk-label-container:hover .sk-estimator-doc-link:hover,\n",
       ".sk-estimator-doc-link:hover {\n",
       "  /* unfitted */\n",
       "  background-color: var(--sklearn-color-unfitted-level-3);\n",
       "  color: var(--sklearn-color-background);\n",
       "  text-decoration: none;\n",
       "}\n",
       "\n",
       "div.sk-estimator.fitted:hover .sk-estimator-doc-link.fitted:hover,\n",
       ".sk-estimator-doc-link.fitted:hover,\n",
       "div.sk-label-container:hover .sk-estimator-doc-link.fitted:hover,\n",
       ".sk-estimator-doc-link.fitted:hover {\n",
       "  /* fitted */\n",
       "  background-color: var(--sklearn-color-fitted-level-3);\n",
       "  color: var(--sklearn-color-background);\n",
       "  text-decoration: none;\n",
       "}\n",
       "\n",
       "/* Span, style for the box shown on hovering the info icon */\n",
       ".sk-estimator-doc-link span {\n",
       "  display: none;\n",
       "  z-index: 9999;\n",
       "  position: relative;\n",
       "  font-weight: normal;\n",
       "  right: .2ex;\n",
       "  padding: .5ex;\n",
       "  margin: .5ex;\n",
       "  width: min-content;\n",
       "  min-width: 20ex;\n",
       "  max-width: 50ex;\n",
       "  color: var(--sklearn-color-text);\n",
       "  box-shadow: 2pt 2pt 4pt #999;\n",
       "  /* unfitted */\n",
       "  background: var(--sklearn-color-unfitted-level-0);\n",
       "  border: .5pt solid var(--sklearn-color-unfitted-level-3);\n",
       "}\n",
       "\n",
       ".sk-estimator-doc-link.fitted span {\n",
       "  /* fitted */\n",
       "  background: var(--sklearn-color-fitted-level-0);\n",
       "  border: var(--sklearn-color-fitted-level-3);\n",
       "}\n",
       "\n",
       ".sk-estimator-doc-link:hover span {\n",
       "  display: block;\n",
       "}\n",
       "\n",
       "/* \"?\"-specific style due to the `<a>` HTML tag */\n",
       "\n",
       "#sk-container-id-1 a.estimator_doc_link {\n",
       "  float: right;\n",
       "  font-size: 1rem;\n",
       "  line-height: 1em;\n",
       "  font-family: monospace;\n",
       "  background-color: var(--sklearn-color-background);\n",
       "  border-radius: 1rem;\n",
       "  height: 1rem;\n",
       "  width: 1rem;\n",
       "  text-decoration: none;\n",
       "  /* unfitted */\n",
       "  color: var(--sklearn-color-unfitted-level-1);\n",
       "  border: var(--sklearn-color-unfitted-level-1) 1pt solid;\n",
       "}\n",
       "\n",
       "#sk-container-id-1 a.estimator_doc_link.fitted {\n",
       "  /* fitted */\n",
       "  border: var(--sklearn-color-fitted-level-1) 1pt solid;\n",
       "  color: var(--sklearn-color-fitted-level-1);\n",
       "}\n",
       "\n",
       "/* On hover */\n",
       "#sk-container-id-1 a.estimator_doc_link:hover {\n",
       "  /* unfitted */\n",
       "  background-color: var(--sklearn-color-unfitted-level-3);\n",
       "  color: var(--sklearn-color-background);\n",
       "  text-decoration: none;\n",
       "}\n",
       "\n",
       "#sk-container-id-1 a.estimator_doc_link.fitted:hover {\n",
       "  /* fitted */\n",
       "  background-color: var(--sklearn-color-fitted-level-3);\n",
       "}\n",
       "</style><div id=\"sk-container-id-1\" class=\"sk-top-container\"><div class=\"sk-text-repr-fallback\"><pre>ColumnTransformer(transformers=[(&#x27;num&#x27;, StandardScaler(),\n",
       "                                 Index([&#x27;Age.at.Diagnosis&#x27;, &#x27;Type.of.Breast.Surgery&#x27;, &#x27;Cellularity&#x27;,\n",
       "       &#x27;Chemotherapy&#x27;, &#x27;Cohort&#x27;, &#x27;ER.Status&#x27;, &#x27;Neoplasm.Histologic.Grade&#x27;,\n",
       "       &#x27;HER2.Status&#x27;, &#x27;Hormone.Therapy&#x27;, &#x27;Inferred.Menopausal.State&#x27;,\n",
       "       &#x27;Primary.Tumor.Laterality&#x27;, &#x27;Lymph.nodes.examined.positive&#x27;,\n",
       "       &#x27;PR.Status&#x27;, &#x27;Radio.Therapy&#x27;, &#x27;Tumor.Size&#x27;, &#x27;Tumor.Stage&#x27;],\n",
       "      dtype=&#x27;object&#x27;)),\n",
       "                                (&#x27;cat&#x27;, OneHotEncoder(),\n",
       "                                 Index([], dtype=&#x27;object&#x27;))])</pre><b>In a Jupyter environment, please rerun this cell to show the HTML representation or trust the notebook. <br />On GitHub, the HTML representation is unable to render, please try loading this page with nbviewer.org.</b></div><div class=\"sk-container\" hidden><div class=\"sk-item sk-dashed-wrapped\"><div class=\"sk-label-container\"><div class=\"sk-label fitted sk-toggleable\"><input class=\"sk-toggleable__control sk-hidden--visually\" id=\"sk-estimator-id-1\" type=\"checkbox\" ><label for=\"sk-estimator-id-1\" class=\"sk-toggleable__label fitted sk-toggleable__label-arrow fitted\">&nbsp;&nbsp;ColumnTransformer<a class=\"sk-estimator-doc-link fitted\" rel=\"noreferrer\" target=\"_blank\" href=\"https://scikit-learn.org/1.4/modules/generated/sklearn.compose.ColumnTransformer.html\">?<span>Documentation for ColumnTransformer</span></a><span class=\"sk-estimator-doc-link fitted\">i<span>Fitted</span></span></label><div class=\"sk-toggleable__content fitted\"><pre>ColumnTransformer(transformers=[(&#x27;num&#x27;, StandardScaler(),\n",
       "                                 Index([&#x27;Age.at.Diagnosis&#x27;, &#x27;Type.of.Breast.Surgery&#x27;, &#x27;Cellularity&#x27;,\n",
       "       &#x27;Chemotherapy&#x27;, &#x27;Cohort&#x27;, &#x27;ER.Status&#x27;, &#x27;Neoplasm.Histologic.Grade&#x27;,\n",
       "       &#x27;HER2.Status&#x27;, &#x27;Hormone.Therapy&#x27;, &#x27;Inferred.Menopausal.State&#x27;,\n",
       "       &#x27;Primary.Tumor.Laterality&#x27;, &#x27;Lymph.nodes.examined.positive&#x27;,\n",
       "       &#x27;PR.Status&#x27;, &#x27;Radio.Therapy&#x27;, &#x27;Tumor.Size&#x27;, &#x27;Tumor.Stage&#x27;],\n",
       "      dtype=&#x27;object&#x27;)),\n",
       "                                (&#x27;cat&#x27;, OneHotEncoder(),\n",
       "                                 Index([], dtype=&#x27;object&#x27;))])</pre></div> </div></div><div class=\"sk-parallel\"><div class=\"sk-parallel-item\"><div class=\"sk-item\"><div class=\"sk-label-container\"><div class=\"sk-label fitted sk-toggleable\"><input class=\"sk-toggleable__control sk-hidden--visually\" id=\"sk-estimator-id-2\" type=\"checkbox\" ><label for=\"sk-estimator-id-2\" class=\"sk-toggleable__label fitted sk-toggleable__label-arrow fitted\">num</label><div class=\"sk-toggleable__content fitted\"><pre>Index([&#x27;Age.at.Diagnosis&#x27;, &#x27;Type.of.Breast.Surgery&#x27;, &#x27;Cellularity&#x27;,\n",
       "       &#x27;Chemotherapy&#x27;, &#x27;Cohort&#x27;, &#x27;ER.Status&#x27;, &#x27;Neoplasm.Histologic.Grade&#x27;,\n",
       "       &#x27;HER2.Status&#x27;, &#x27;Hormone.Therapy&#x27;, &#x27;Inferred.Menopausal.State&#x27;,\n",
       "       &#x27;Primary.Tumor.Laterality&#x27;, &#x27;Lymph.nodes.examined.positive&#x27;,\n",
       "       &#x27;PR.Status&#x27;, &#x27;Radio.Therapy&#x27;, &#x27;Tumor.Size&#x27;, &#x27;Tumor.Stage&#x27;],\n",
       "      dtype=&#x27;object&#x27;)</pre></div> </div></div><div class=\"sk-serial\"><div class=\"sk-item\"><div class=\"sk-estimator fitted sk-toggleable\"><input class=\"sk-toggleable__control sk-hidden--visually\" id=\"sk-estimator-id-3\" type=\"checkbox\" ><label for=\"sk-estimator-id-3\" class=\"sk-toggleable__label fitted sk-toggleable__label-arrow fitted\">&nbsp;StandardScaler<a class=\"sk-estimator-doc-link fitted\" rel=\"noreferrer\" target=\"_blank\" href=\"https://scikit-learn.org/1.4/modules/generated/sklearn.preprocessing.StandardScaler.html\">?<span>Documentation for StandardScaler</span></a></label><div class=\"sk-toggleable__content fitted\"><pre>StandardScaler()</pre></div> </div></div></div></div></div><div class=\"sk-parallel-item\"><div class=\"sk-item\"><div class=\"sk-label-container\"><div class=\"sk-label fitted sk-toggleable\"><input class=\"sk-toggleable__control sk-hidden--visually\" id=\"sk-estimator-id-4\" type=\"checkbox\" ><label for=\"sk-estimator-id-4\" class=\"sk-toggleable__label fitted sk-toggleable__label-arrow fitted\">cat</label><div class=\"sk-toggleable__content fitted\"><pre>Index([], dtype=&#x27;object&#x27;)</pre></div> </div></div><div class=\"sk-serial\"><div class=\"sk-item\"><div class=\"sk-estimator fitted sk-toggleable\"><input class=\"sk-toggleable__control sk-hidden--visually\" id=\"sk-estimator-id-5\" type=\"checkbox\" ><label for=\"sk-estimator-id-5\" class=\"sk-toggleable__label fitted sk-toggleable__label-arrow fitted\">&nbsp;OneHotEncoder<a class=\"sk-estimator-doc-link fitted\" rel=\"noreferrer\" target=\"_blank\" href=\"https://scikit-learn.org/1.4/modules/generated/sklearn.preprocessing.OneHotEncoder.html\">?<span>Documentation for OneHotEncoder</span></a></label><div class=\"sk-toggleable__content fitted\"><pre>OneHotEncoder()</pre></div> </div></div></div></div></div></div></div></div></div>"
      ],
      "text/plain": [
       "ColumnTransformer(transformers=[('num', StandardScaler(),\n",
       "                                 Index(['Age.at.Diagnosis', 'Type.of.Breast.Surgery', 'Cellularity',\n",
       "       'Chemotherapy', 'Cohort', 'ER.Status', 'Neoplasm.Histologic.Grade',\n",
       "       'HER2.Status', 'Hormone.Therapy', 'Inferred.Menopausal.State',\n",
       "       'Primary.Tumor.Laterality', 'Lymph.nodes.examined.positive',\n",
       "       'PR.Status', 'Radio.Therapy', 'Tumor.Size', 'Tumor.Stage'],\n",
       "      dtype='object')),\n",
       "                                ('cat', OneHotEncoder(),\n",
       "                                 Index([], dtype='object'))])"
      ]
     },
     "execution_count": 15,
     "metadata": {},
     "output_type": "execute_result"
    }
   ],
   "source": [
    "# Fit the preprocessor to the training data to ensure it is fitted before accessing feature names\n",
    "preprocessor.fit(X)"
   ]
  },
  {
   "cell_type": "code",
   "execution_count": 17,
   "id": "037ad8ae-89c7-4711-a7d6-1c77388d373a",
   "metadata": {},
   "outputs": [
    {
     "name": "stdout",
     "output_type": "stream",
     "text": [
      "   Age.at.Diagnosis  Type.of.Breast.Surgery  Cellularity  Chemotherapy  \\\n",
      "0             43.19                       0            0             0   \n",
      "1             48.87                       1            0             1   \n",
      "2             47.68                       1            1             1   \n",
      "3             76.97                       1            0             1   \n",
      "4             78.77                       1            1             0   \n",
      "\n",
      "   Cohort  ER.Status  Neoplasm.Histologic.Grade  HER2.Status  Hormone.Therapy  \\\n",
      "0       1          0                          3            0                0   \n",
      "1       1          0                          2            0                0   \n",
      "2       1          0                          2            0                0   \n",
      "3       1          0                          3            0                0   \n",
      "4       1          0                          3            0                0   \n",
      "\n",
      "   Inferred.Menopausal.State  Primary.Tumor.Laterality  \\\n",
      "0                          0                         0   \n",
      "1                          0                         0   \n",
      "2                          0                         0   \n",
      "3                          1                         0   \n",
      "4                          1                         1   \n",
      "\n",
      "   Lymph.nodes.examined.positive  PR.Status  Radio.Therapy  Tumor.Size  \\\n",
      "0                              0          0              1        10.0   \n",
      "1                              1          0              0        15.0   \n",
      "2                              3          0              1        25.0   \n",
      "3                              8          0              1        40.0   \n",
      "4                              0          0              1        31.0   \n",
      "\n",
      "   Tumor.Stage  \n",
      "0            1  \n",
      "1            2  \n",
      "2            2  \n",
      "3            2  \n",
      "4            4  \n"
     ]
    }
   ],
   "source": [
    "print(X.head())"
   ]
  },
  {
   "cell_type": "code",
   "execution_count": 19,
   "id": "44915e51-d42b-4df3-904a-26d23677d800",
   "metadata": {},
   "outputs": [
    {
     "name": "stdout",
     "output_type": "stream",
     "text": [
      "Training Random Forest...\n",
      "Training Decision Tree...\n",
      "Training SVM...\n",
      "Training Logistic Regression...\n"
     ]
    }
   ],
   "source": [
    "# Train and evaluate models\n",
    "for name, model in models.items():\n",
    "    print(f\"Training {name}...\")\n",
    "    # Create a pipeline that first preprocesses the data and then fits the model\n",
    "    clf = Pipeline(steps=[('preprocessor', preprocessor), ('classifier', model)])\n",
    "    clf.fit(X_train, y_train)\n",
    "    y_pred = clf.predict(X_test)"
   ]
  },
  {
   "cell_type": "code",
   "execution_count": 21,
   "id": "4b60786f-dc5d-4b92-87e8-34cadf7d0199",
   "metadata": {},
   "outputs": [
    {
     "name": "stdout",
     "output_type": "stream",
     "text": [
      "Training Random Forest...\n",
      "Random Forest Performance:\n",
      "Accuracy: 0.6800\n",
      "Recall: 0.6063\n",
      "Precision: 0.6260\n",
      "F1 Score: 0.6160\n",
      "              precision    recall  f1-score   support\n",
      "\n",
      "           0       0.72      0.73      0.73       173\n",
      "           1       0.63      0.61      0.62       127\n",
      "\n",
      "    accuracy                           0.68       300\n",
      "   macro avg       0.67      0.67      0.67       300\n",
      "weighted avg       0.68      0.68      0.68       300\n",
      "\n"
     ]
    }
   ],
   "source": [
    "# Random Forest\n",
    "print(\"Training Random Forest...\")\n",
    "rf_pipeline = Pipeline(steps=[('preprocessor', preprocessor), ('classifier', RandomForestClassifier(random_state=42))])\n",
    "rf_pipeline.fit(X_train, y_train)\n",
    "y_pred_rf = rf_pipeline.predict(X_test)\n",
    "\n",
    "# Metrics\n",
    "print(\"Random Forest Performance:\")\n",
    "print(f\"Accuracy: {accuracy_score(y_test, y_pred_rf):.4f}\")\n",
    "print(f\"Recall: {recall_score(y_test, y_pred_rf):.4f}\")\n",
    "print(f\"Precision: {precision_score(y_test, y_pred_rf):.4f}\")\n",
    "print(f\"F1 Score: {f1_score(y_test, y_pred_rf):.4f}\")\n",
    "print(classification_report(y_test, y_pred_rf))\n"
   ]
  },
  {
   "cell_type": "code",
   "execution_count": 25,
   "id": "aed87b32-77c0-490a-9f94-f7329f803970",
   "metadata": {},
   "outputs": [
    {
     "data": {
      "text/plain": [
       "array([0.05293665, 0.03484691, 0.        , 0.        , 0.05196546,\n",
       "       0.00268197, 0.        , 0.        , 0.0104609 , 0.        ,\n",
       "       0.01122722, 0.05650068, 0.01610718, 0.        , 0.03899484,\n",
       "       0.02777913])"
      ]
     },
     "execution_count": 25,
     "metadata": {},
     "output_type": "execute_result"
    }
   ],
   "source": [
    "\n",
    "# determine the mutual information for RF\n",
    "mutual_info_rf = mutual_info_classif(X_train, y_train)\n",
    "mutual_info_rf"
   ]
  },
  {
   "cell_type": "code",
   "execution_count": 27,
   "id": "3bac3833-c936-4a84-8793-521b457ec384",
   "metadata": {},
   "outputs": [
    {
     "data": {
      "text/plain": [
       "Index(['Age.at.Diagnosis', 'Type.of.Breast.Surgery', 'Cellularity', 'Cohort',\n",
       "       'ER.Status'],\n",
       "      dtype='object')"
      ]
     },
     "execution_count": 27,
     "metadata": {},
     "output_type": "execute_result"
    }
   ],
   "source": [
    "sel_five_cols_rf = SelectKBest(mutual_info_classif, k=5)\n",
    "sel_five_cols_rf.fit(X_train, y_train)\n",
    "X_train.columns[sel_five_cols_rf.get_support()]"
   ]
  },
  {
   "cell_type": "code",
   "execution_count": 29,
   "id": "8a16f959-9ae9-4e3a-80af-1c7c94346f30",
   "metadata": {},
   "outputs": [
    {
     "name": "stdout",
     "output_type": "stream",
     "text": [
      "Training Decision Tree...\n",
      "Decision Tree Performance:\n",
      "Accuracy: 0.5967\n",
      "Recall: 0.5906\n",
      "Precision: 0.5208\n",
      "F1 Score: 0.5535\n",
      "              precision    recall  f1-score   support\n",
      "\n",
      "           0       0.67      0.60      0.63       173\n",
      "           1       0.52      0.59      0.55       127\n",
      "\n",
      "    accuracy                           0.60       300\n",
      "   macro avg       0.59      0.60      0.59       300\n",
      "weighted avg       0.60      0.60      0.60       300\n",
      "\n"
     ]
    }
   ],
   "source": [
    "from sklearn.tree import DecisionTreeClassifier\n",
    "\n",
    "# Decision Tree\n",
    "print(\"Training Decision Tree...\")\n",
    "dt_pipeline = Pipeline(steps=[('preprocessor', preprocessor), ('classifier', DecisionTreeClassifier(random_state=42))])\n",
    "dt_pipeline.fit(X_train, y_train)\n",
    "y_pred_dt = dt_pipeline.predict(X_test)\n",
    "\n",
    "# Metrics\n",
    "print(\"Decision Tree Performance:\")\n",
    "print(f\"Accuracy: {accuracy_score(y_test, y_pred_dt):.4f}\")\n",
    "print(f\"Recall: {recall_score(y_test, y_pred_dt):.4f}\")\n",
    "print(f\"Precision: {precision_score(y_test, y_pred_dt):.4f}\")\n",
    "print(f\"F1 Score: {f1_score(y_test, y_pred_dt):.4f}\")\n",
    "print(classification_report(y_test, y_pred_dt))\n",
    "\n"
   ]
  },
  {
   "cell_type": "code",
   "execution_count": 31,
   "id": "4cb5b7a8-fbd2-42e9-a998-c41ef0daf411",
   "metadata": {},
   "outputs": [
    {
     "data": {
      "text/plain": [
       "array([0.05120242, 0.03137275, 0.01230359, 0.        , 0.02168435,\n",
       "       0.00891689, 0.01182559, 0.02657381, 0.04037003, 0.        ,\n",
       "       0.00668397, 0.04621815, 0.        , 0.        , 0.01789627,\n",
       "       0.03816389])"
      ]
     },
     "execution_count": 31,
     "metadata": {},
     "output_type": "execute_result"
    }
   ],
   "source": [
    "\n",
    "# determine the mutual information\n",
    "mutual_info_dt = mutual_info_classif(X_train, y_train)\n",
    "mutual_info_dt"
   ]
  },
  {
   "cell_type": "code",
   "execution_count": 33,
   "id": "339fc124-0c6c-4d3d-b2b5-01912e8a28c5",
   "metadata": {},
   "outputs": [
    {
     "data": {
      "text/plain": [
       "Index(['Age.at.Diagnosis', 'Chemotherapy', 'HER2.Status',\n",
       "       'Lymph.nodes.examined.positive', 'Tumor.Size'],\n",
       "      dtype='object')"
      ]
     },
     "execution_count": 33,
     "metadata": {},
     "output_type": "execute_result"
    }
   ],
   "source": [
    "sel_five_cols_dt = SelectKBest(mutual_info_classif, k=5)\n",
    "sel_five_cols_dt.fit(X_train, y_train)\n",
    "X_train.columns[sel_five_cols_dt.get_support()]"
   ]
  },
  {
   "cell_type": "code",
   "execution_count": 35,
   "id": "1a7f7a7c-a42c-444b-9866-12ef977a93e3",
   "metadata": {},
   "outputs": [
    {
     "name": "stdout",
     "output_type": "stream",
     "text": [
      "Training SVM...\n",
      "SVM Performance:\n",
      "Accuracy: 0.7300\n",
      "Recall: 0.6457\n",
      "Precision: 0.6949\n",
      "F1 Score: 0.6694\n",
      "              precision    recall  f1-score   support\n",
      "\n",
      "           0       0.75      0.79      0.77       173\n",
      "           1       0.69      0.65      0.67       127\n",
      "\n",
      "    accuracy                           0.73       300\n",
      "   macro avg       0.72      0.72      0.72       300\n",
      "weighted avg       0.73      0.73      0.73       300\n",
      "\n"
     ]
    }
   ],
   "source": [
    "from sklearn.svm import SVC\n",
    "\n",
    "# SVM\n",
    "print(\"Training SVM...\")\n",
    "svm_pipeline = Pipeline(steps=[('preprocessor', preprocessor), ('classifier', SVC(probability=True, random_state=42))])\n",
    "svm_pipeline.fit(X_train, y_train)\n",
    "y_pred_svm = svm_pipeline.predict(X_test)\n",
    "\n",
    "# Metrics\n",
    "print(\"SVM Performance:\")\n",
    "print(f\"Accuracy: {accuracy_score(y_test, y_pred_svm):.4f}\")\n",
    "print(f\"Recall: {recall_score(y_test, y_pred_svm):.4f}\")\n",
    "print(f\"Precision: {precision_score(y_test, y_pred_svm):.4f}\")\n",
    "print(f\"F1 Score: {f1_score(y_test, y_pred_svm):.4f}\")\n",
    "print(classification_report(y_test, y_pred_svm))"
   ]
  },
  {
   "cell_type": "code",
   "execution_count": 37,
   "id": "7524ed64-3056-42ad-b8a8-90d1525fc29a",
   "metadata": {},
   "outputs": [
    {
     "data": {
      "text/plain": [
       "array([0.05399272, 0.01303223, 0.        , 0.03103861, 0.01439686,\n",
       "       0.01083784, 0.00566751, 0.01428193, 0.        , 0.00911075,\n",
       "       0.01759638, 0.05622383, 0.00645215, 0.0053454 , 0.03927915,\n",
       "       0.        ])"
      ]
     },
     "execution_count": 37,
     "metadata": {},
     "output_type": "execute_result"
    }
   ],
   "source": [
    "mutual_info_svm = mutual_info_classif(X_train, y_train)\n",
    "mutual_info_svm"
   ]
  },
  {
   "cell_type": "code",
   "execution_count": 39,
   "id": "9f1dfb0c-b65d-4fe4-88af-a2c21ad9ba72",
   "metadata": {},
   "outputs": [
    {
     "data": {
      "text/plain": [
       "Index(['Age.at.Diagnosis', 'Type.of.Breast.Surgery',\n",
       "       'Lymph.nodes.examined.positive', 'Tumor.Size', 'Tumor.Stage'],\n",
       "      dtype='object')"
      ]
     },
     "execution_count": 39,
     "metadata": {},
     "output_type": "execute_result"
    }
   ],
   "source": [
    "sel_five_cols_svm = SelectKBest(mutual_info_classif, k=5)\n",
    "sel_five_cols_svm.fit(X_train, y_train)\n",
    "X_train.columns[sel_five_cols_svm.get_support()]"
   ]
  },
  {
   "cell_type": "code",
   "execution_count": 41,
   "id": "bd76ead7-fe26-44dc-8282-94c58812a8f5",
   "metadata": {},
   "outputs": [
    {
     "name": "stdout",
     "output_type": "stream",
     "text": [
      "Training Logistic Regression...\n",
      "Logistic Regression Performance:\n",
      "Accuracy: 0.6967\n",
      "Recall: 0.6378\n",
      "Precision: 0.6429\n",
      "F1 Score: 0.6403\n",
      "              precision    recall  f1-score   support\n",
      "\n",
      "           0       0.74      0.74      0.74       173\n",
      "           1       0.64      0.64      0.64       127\n",
      "\n",
      "    accuracy                           0.70       300\n",
      "   macro avg       0.69      0.69      0.69       300\n",
      "weighted avg       0.70      0.70      0.70       300\n",
      "\n"
     ]
    }
   ],
   "source": [
    "from sklearn.linear_model import LogisticRegression\n",
    "\n",
    "# Logistic Regression\n",
    "print(\"Training Logistic Regression...\")\n",
    "lr_pipeline = Pipeline(steps=[('preprocessor', preprocessor), ('classifier', LogisticRegression(random_state=42))])\n",
    "lr_pipeline.fit(X_train, y_train)\n",
    "y_pred_lr = lr_pipeline.predict(X_test)\n",
    "\n",
    "# Metrics\n",
    "print(\"Logistic Regression Performance:\")\n",
    "print(f\"Accuracy: {accuracy_score(y_test, y_pred_lr):.4f}\")\n",
    "print(f\"Recall: {recall_score(y_test, y_pred_lr):.4f}\")\n",
    "print(f\"Precision: {precision_score(y_test, y_pred_lr):.4f}\")\n",
    "print(f\"F1 Score: {f1_score(y_test, y_pred_lr):.4f}\")\n",
    "print(classification_report(y_test, y_pred_lr))"
   ]
  },
  {
   "cell_type": "code",
   "execution_count": 43,
   "id": "131dd5ac-58ab-4d8d-8997-2b6bf7ab1e61",
   "metadata": {},
   "outputs": [
    {
     "data": {
      "text/plain": [
       "array([0.05247628, 0.02033533, 0.        , 0.02587   , 0.        ,\n",
       "       0.02974689, 0.00417986, 0.        , 0.01692325, 0.        ,\n",
       "       0.        , 0.04253536, 0.02648403, 0.01262752, 0.03435437,\n",
       "       0.01867622])"
      ]
     },
     "execution_count": 43,
     "metadata": {},
     "output_type": "execute_result"
    }
   ],
   "source": [
    "mutual_info_LR = mutual_info_classif(X_train, y_train)\n",
    "mutual_info_LR"
   ]
  },
  {
   "cell_type": "code",
   "execution_count": 45,
   "id": "f850bfee-3d3a-49ed-97a6-2ab77a06182b",
   "metadata": {},
   "outputs": [
    {
     "data": {
      "text/plain": [
       "Index(['Age.at.Diagnosis', 'Type.of.Breast.Surgery', 'Cohort',\n",
       "       'Inferred.Menopausal.State', 'Tumor.Stage'],\n",
       "      dtype='object')"
      ]
     },
     "execution_count": 45,
     "metadata": {},
     "output_type": "execute_result"
    }
   ],
   "source": [
    "sel_five_cols_lr = SelectKBest(mutual_info_classif, k=5)\n",
    "sel_five_cols_lr.fit(X_train, y_train)\n",
    "X_train.columns[sel_five_cols_lr.get_support()]"
   ]
  },
  {
   "cell_type": "code",
   "execution_count": 52,
   "id": "97edaf48-c3e1-4a88-8507-18a8e2a20118",
   "metadata": {},
   "outputs": [],
   "source": [
    "use other selection models"
   ]
  },
  {
   "cell_type": "code",
   "execution_count": 47,
   "id": "9c78597f-3eee-409b-8a31-b306bd2a8960",
   "metadata": {},
   "outputs": [
    {
     "name": "stdout",
     "output_type": "stream",
     "text": [
      "Selected features by RFE (Logistic Regression):\n",
      "Index(['Type.of.Breast.Surgery', 'Cohort', 'Neoplasm.Histologic.Grade',\n",
      "       'HER2.Status', 'Tumor.Stage'],\n",
      "      dtype='object')\n"
     ]
    }
   ],
   "source": [
    "from sklearn.feature_selection import RFE\n",
    "from sklearn.linear_model import LogisticRegression\n",
    "\n",
    "# Create a logistic regression model\n",
    "lr_model = LogisticRegression(max_iter=1000)\n",
    "\n",
    "# Use RFE to select the top k features\n",
    "rfe_selector = RFE(estimator=lr_model, n_features_to_select=5, step=1)\n",
    "rfe_selector = rfe_selector.fit(X_train, y_train)\n",
    "\n",
    "# Get the selected feature names\n",
    "selected_features_rfe_lr = X_train.columns[rfe_selector.support_]\n",
    "\n",
    "# Print the selected features\n",
    "print(\"Selected features by RFE (Logistic Regression):\")\n",
    "print(selected_features_rfe_lr)\n"
   ]
  },
  {
   "cell_type": "code",
   "execution_count": 49,
   "id": "5eb0d275-312e-4a6a-93a3-63f73d7ae530",
   "metadata": {},
   "outputs": [
    {
     "name": "stdout",
     "output_type": "stream",
     "text": [
      "Selected features by RFE (Random Forest):\n",
      "Index(['Age.at.Diagnosis', 'Cellularity', 'Cohort',\n",
      "       'Lymph.nodes.examined.positive', 'Tumor.Size'],\n",
      "      dtype='object')\n"
     ]
    }
   ],
   "source": [
    "from sklearn.ensemble import RandomForestClassifier\n",
    "\n",
    "# Create a random forest classifier model\n",
    "rf_model = RandomForestClassifier()\n",
    "\n",
    "# Use RFE to select the top k features\n",
    "rfe_selector_rf = RFE(estimator=rf_model, n_features_to_select=5, step=1)\n",
    "rfe_selector_rf = rfe_selector_rf.fit(X_train, y_train)\n",
    "\n",
    "# Get the selected feature names\n",
    "selected_features_rfe_rf = X_train.columns[rfe_selector_rf.support_]\n",
    "\n",
    "# Print the selected features\n",
    "print(\"Selected features by RFE (Random Forest):\")\n",
    "print(selected_features_rfe_rf)\n"
   ]
  },
  {
   "cell_type": "code",
   "execution_count": 51,
   "id": "9b46c425-d1f6-4966-85c5-b38fe1f15bb1",
   "metadata": {},
   "outputs": [
    {
     "name": "stdout",
     "output_type": "stream",
     "text": [
      "Selected features by model-based selection (Random Forest):\n",
      "Index(['Age.at.Diagnosis', 'Cohort', 'Lymph.nodes.examined.positive',\n",
      "       'Tumor.Size'],\n",
      "      dtype='object')\n"
     ]
    }
   ],
   "source": [
    "from sklearn.feature_selection import SelectFromModel\n",
    "from sklearn.ensemble import RandomForestClassifier\n",
    "\n",
    "# Create a random forest classifier model\n",
    "rf_model = RandomForestClassifier()\n",
    "\n",
    "# Fit the model to get feature importances\n",
    "rf_model.fit(X_train, y_train)\n",
    "\n",
    "# Use SelectFromModel to select features based on importance\n",
    "model_selector = SelectFromModel(rf_model, prefit=True, threshold=\"mean\")\n",
    "selected_features_model_rf = X_train.columns[model_selector.get_support()]\n",
    "\n",
    "# Print the selected features\n",
    "print(\"Selected features by model-based selection (Random Forest):\")\n",
    "print(selected_features_model_rf)\n"
   ]
  },
  {
   "cell_type": "code",
   "execution_count": 53,
   "id": "a311f448-626e-4ac8-a16f-dd9790a54d69",
   "metadata": {},
   "outputs": [
    {
     "name": "stdout",
     "output_type": "stream",
     "text": [
      "Cross-validation scores (Logistic Regression):\n",
      "[0.64285714 0.63571429 0.62857143 0.63571429 0.66428571]\n",
      "Mean accuracy: 0.6414285714285713\n"
     ]
    }
   ],
   "source": [
    "from sklearn.model_selection import cross_val_score\n",
    "from sklearn.linear_model import LogisticRegression\n",
    "\n",
    "# Create a logistic regression model\n",
    "lr_model = LogisticRegression(max_iter=1000)\n",
    "\n",
    "# Evaluate model performance using cross-validation\n",
    "scores = cross_val_score(lr_model, X_train[selected_features_rfe_lr], y_train, cv=5, scoring='accuracy')\n",
    "\n",
    "# Print the cross-validation scores\n",
    "print(\"Cross-validation scores (Logistic Regression):\")\n",
    "print(scores)\n",
    "print(\"Mean accuracy:\", scores.mean())\n"
   ]
  },
  {
   "cell_type": "code",
   "execution_count": 55,
   "id": "23133f48-c0c4-4e6b-ae50-ab122522effa",
   "metadata": {},
   "outputs": [
    {
     "name": "stdout",
     "output_type": "stream",
     "text": [
      "Selected features by RFE (SVM):\n",
      "Index(['Type.of.Breast.Surgery', 'Chemotherapy', 'HER2.Status',\n",
      "       'Inferred.Menopausal.State', 'Primary.Tumor.Laterality'],\n",
      "      dtype='object')\n",
      "Cross-validation scores (SVM):\n",
      "[0.61428571 0.6        0.62142857 0.6        0.62142857]\n",
      "Mean accuracy: 0.6114285714285714\n"
     ]
    }
   ],
   "source": [
    "from sklearn.feature_selection import RFE\n",
    "from sklearn.svm import SVC\n",
    "from sklearn.model_selection import cross_val_score\n",
    "\n",
    "# Create an SVM model with a linear kernel\n",
    "svm_model = SVC(kernel='linear')\n",
    "\n",
    "# Use RFE to select the top k features\n",
    "rfe_selector_svm = RFE(estimator=svm_model, n_features_to_select=5, step=1)\n",
    "rfe_selector_svm = rfe_selector_svm.fit(X_train, y_train)\n",
    "\n",
    "# Get the selected feature names\n",
    "selected_features_rfe_svm = X_train.columns[rfe_selector_svm.support_]\n",
    "\n",
    "# Print the selected features\n",
    "print(\"Selected features by RFE (SVM):\")\n",
    "print(selected_features_rfe_svm)\n",
    "\n",
    "# Evaluate model performance using cross-validation with selected features\n",
    "scores_svm = cross_val_score(svm_model, X_train[selected_features_rfe_svm], y_train, cv=5, scoring='accuracy')\n",
    "\n",
    "# Print the cross-validation scores\n",
    "print(\"Cross-validation scores (SVM):\")\n",
    "print(scores_svm)\n",
    "print(\"Mean accuracy:\", scores_svm.mean())\n"
   ]
  },
  {
   "cell_type": "code",
   "execution_count": null,
   "id": "3a09f2e6-8159-4a2a-9caa-5dfb43deda5d",
   "metadata": {},
   "outputs": [],
   "source": []
  }
 ],
 "metadata": {
  "kernelspec": {
   "display_name": "Python 3 (ipykernel)",
   "language": "python",
   "name": "python3"
  },
  "language_info": {
   "codemirror_mode": {
    "name": "ipython",
    "version": 3
   },
   "file_extension": ".py",
   "mimetype": "text/x-python",
   "name": "python",
   "nbconvert_exporter": "python",
   "pygments_lexer": "ipython3",
   "version": "3.12.4"
  }
 },
 "nbformat": 4,
 "nbformat_minor": 5
}
